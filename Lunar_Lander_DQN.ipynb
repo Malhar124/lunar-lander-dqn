{
  "cells": [
    {
      "cell_type": "markdown",
      "metadata": {
        "id": "LbZcI9ZXHl3a"
      },
      "source": [
        "# Deep Q-Learning for Lunar Landing"
      ]
    },
    {
      "cell_type": "markdown",
      "metadata": {
        "id": "slEm5teGWjWU"
      },
      "source": [
        "### Installing Gymnasium"
      ]
    },
    {
      "cell_type": "code",
      "execution_count": 1,
      "metadata": {
        "id": "dbnq3XpoKa_7",
        "colab": {
          "base_uri": "https://localhost:8080/"
        },
        "outputId": "921663e4-26cf-4221-c424-36c7a21d7357"
      },
      "outputs": [
        {
          "output_type": "stream",
          "name": "stdout",
          "text": [
            "Requirement already satisfied: gymnasium in /usr/local/lib/python3.11/dist-packages (1.2.0)\n",
            "Requirement already satisfied: numpy>=1.21.0 in /usr/local/lib/python3.11/dist-packages (from gymnasium) (2.0.2)\n",
            "Requirement already satisfied: cloudpickle>=1.2.0 in /usr/local/lib/python3.11/dist-packages (from gymnasium) (3.1.1)\n",
            "Requirement already satisfied: typing-extensions>=4.3.0 in /usr/local/lib/python3.11/dist-packages (from gymnasium) (4.14.0)\n",
            "Requirement already satisfied: farama-notifications>=0.0.1 in /usr/local/lib/python3.11/dist-packages (from gymnasium) (0.0.4)\n",
            "Requirement already satisfied: gymnasium[accept-rom-license,atari] in /usr/local/lib/python3.11/dist-packages (1.2.0)\n",
            "\u001b[33mWARNING: gymnasium 1.2.0 does not provide the extra 'accept-rom-license'\u001b[0m\u001b[33m\n",
            "\u001b[0mRequirement already satisfied: numpy>=1.21.0 in /usr/local/lib/python3.11/dist-packages (from gymnasium[accept-rom-license,atari]) (2.0.2)\n",
            "Requirement already satisfied: cloudpickle>=1.2.0 in /usr/local/lib/python3.11/dist-packages (from gymnasium[accept-rom-license,atari]) (3.1.1)\n",
            "Requirement already satisfied: typing-extensions>=4.3.0 in /usr/local/lib/python3.11/dist-packages (from gymnasium[accept-rom-license,atari]) (4.14.0)\n",
            "Requirement already satisfied: farama-notifications>=0.0.1 in /usr/local/lib/python3.11/dist-packages (from gymnasium[accept-rom-license,atari]) (0.0.4)\n",
            "Requirement already satisfied: ale_py>=0.9 in /usr/local/lib/python3.11/dist-packages (from gymnasium[accept-rom-license,atari]) (0.11.1)\n",
            "Reading package lists... Done\n",
            "Building dependency tree... Done\n",
            "Reading state information... Done\n",
            "The following additional packages will be installed:\n",
            "  swig4.0\n",
            "Suggested packages:\n",
            "  swig-doc swig-examples swig4.0-examples swig4.0-doc\n",
            "The following NEW packages will be installed:\n",
            "  swig swig4.0\n",
            "0 upgraded, 2 newly installed, 0 to remove and 35 not upgraded.\n",
            "Need to get 1,116 kB of archives.\n",
            "After this operation, 5,542 kB of additional disk space will be used.\n",
            "Get:1 http://archive.ubuntu.com/ubuntu jammy/universe amd64 swig4.0 amd64 4.0.2-1ubuntu1 [1,110 kB]\n",
            "Get:2 http://archive.ubuntu.com/ubuntu jammy/universe amd64 swig all 4.0.2-1ubuntu1 [5,632 B]\n",
            "Fetched 1,116 kB in 1s (1,087 kB/s)\n",
            "Selecting previously unselected package swig4.0.\n",
            "(Reading database ... 126308 files and directories currently installed.)\n",
            "Preparing to unpack .../swig4.0_4.0.2-1ubuntu1_amd64.deb ...\n",
            "Unpacking swig4.0 (4.0.2-1ubuntu1) ...\n",
            "Selecting previously unselected package swig.\n",
            "Preparing to unpack .../swig_4.0.2-1ubuntu1_all.deb ...\n",
            "Unpacking swig (4.0.2-1ubuntu1) ...\n",
            "Setting up swig4.0 (4.0.2-1ubuntu1) ...\n",
            "Setting up swig (4.0.2-1ubuntu1) ...\n",
            "Processing triggers for man-db (2.10.2-1) ...\n",
            "Requirement already satisfied: gymnasium[box2d] in /usr/local/lib/python3.11/dist-packages (1.2.0)\n",
            "Requirement already satisfied: numpy>=1.21.0 in /usr/local/lib/python3.11/dist-packages (from gymnasium[box2d]) (2.0.2)\n",
            "Requirement already satisfied: cloudpickle>=1.2.0 in /usr/local/lib/python3.11/dist-packages (from gymnasium[box2d]) (3.1.1)\n",
            "Requirement already satisfied: typing-extensions>=4.3.0 in /usr/local/lib/python3.11/dist-packages (from gymnasium[box2d]) (4.14.0)\n",
            "Requirement already satisfied: farama-notifications>=0.0.1 in /usr/local/lib/python3.11/dist-packages (from gymnasium[box2d]) (0.0.4)\n",
            "Collecting box2d-py==2.3.5 (from gymnasium[box2d])\n",
            "  Downloading box2d-py-2.3.5.tar.gz (374 kB)\n",
            "\u001b[2K     \u001b[90m━━━━━━━━━━━━━━━━━━━━━━━━━━━━━━━━━━━━━━━\u001b[0m \u001b[32m374.4/374.4 kB\u001b[0m \u001b[31m5.0 MB/s\u001b[0m eta \u001b[36m0:00:00\u001b[0m\n",
            "\u001b[?25h  Preparing metadata (setup.py) ... \u001b[?25l\u001b[?25hdone\n",
            "Requirement already satisfied: pygame>=2.1.3 in /usr/local/lib/python3.11/dist-packages (from gymnasium[box2d]) (2.6.1)\n",
            "Collecting swig==4.* (from gymnasium[box2d])\n",
            "  Downloading swig-4.3.1-py3-none-manylinux_2_12_x86_64.manylinux2010_x86_64.whl.metadata (3.5 kB)\n",
            "Downloading swig-4.3.1-py3-none-manylinux_2_12_x86_64.manylinux2010_x86_64.whl (1.9 MB)\n",
            "\u001b[2K   \u001b[90m━━━━━━━━━━━━━━━━━━━━━━━━━━━━━━━━━━━━━━━━\u001b[0m \u001b[32m1.9/1.9 MB\u001b[0m \u001b[31m9.7 MB/s\u001b[0m eta \u001b[36m0:00:00\u001b[0m\n",
            "\u001b[?25hBuilding wheels for collected packages: box2d-py\n",
            "  Building wheel for box2d-py (setup.py) ... \u001b[?25l\u001b[?25hdone\n",
            "  Created wheel for box2d-py: filename=box2d_py-2.3.5-cp311-cp311-linux_x86_64.whl size=2351189 sha256=61a70d459ff56fd3111b584418e99312e38acfc815346a806e436177c79f1b17\n",
            "  Stored in directory: /root/.cache/pip/wheels/ab/f1/0c/d56f4a2bdd12bae0a0693ec33f2f0daadb5eb9753c78fa5308\n",
            "Successfully built box2d-py\n",
            "Installing collected packages: swig, box2d-py\n",
            "Successfully installed box2d-py-2.3.5 swig-4.3.1\n"
          ]
        }
      ],
      "source": [
        "!pip install gymnasium\n",
        "!pip install \"gymnasium[atari, accept-rom-license]\"\n",
        "!apt-get install -y swig\n",
        "!pip install gymnasium[box2d]"
      ]
    },
    {
      "cell_type": "markdown",
      "metadata": {
        "id": "brqiMN3UW9T9"
      },
      "source": [
        "### Importing the libraries"
      ]
    },
    {
      "cell_type": "code",
      "execution_count": 2,
      "metadata": {
        "id": "mZaKXP_aMl9O"
      },
      "outputs": [],
      "source": [
        "import os\n",
        "import random\n",
        "import numpy as np\n",
        "import torch\n",
        "import torch.nn as nn\n",
        "import torch.optim as optim\n",
        "import torch.nn.functional as F\n",
        "import torch.autograd as autograd\n",
        "from torch.autograd import Variable\n",
        "from collections import deque, namedtuple"
      ]
    },
    {
      "cell_type": "markdown",
      "metadata": {
        "id": "UtG6Zc83YYy3"
      },
      "source": [
        "### Creating the architecture of the Neural Network"
      ]
    },
    {
      "cell_type": "code",
      "source": [
        "class Network(nn.Module):\n",
        "\n",
        "  def __init__(self, state_size, action_size, seed = 42):\n",
        "    super(Network, self).__init__()\n",
        "    self.seed = torch.manual_seed(seed)\n",
        "    self.fc1 = nn.Linear(state_size, 64)\n",
        "    self.fc2 = nn.Linear(64, 64)\n",
        "    self.fc3 = nn.Linear(64, action_size)\n",
        "\n",
        "  def forward(self, state):\n",
        "    x = F.relu(self.fc1(state))\n",
        "    x = F.relu(self.fc2(x))\n",
        "    return self.fc3(x)"
      ],
      "metadata": {
        "id": "8jA3_8zAGSho"
      },
      "execution_count": 3,
      "outputs": []
    },
    {
      "cell_type": "markdown",
      "metadata": {
        "id": "T364fz9qZb2j"
      },
      "source": [
        "### Setting up the environment"
      ]
    },
    {
      "cell_type": "code",
      "source": [
        "import gymnasium as gym\n",
        "env = gym.make('LunarLander-v3')\n",
        "state_shape = env.observation_space.shape\n",
        "state_size = state_shape[0]\n",
        "number_actions = env.action_space.n\n",
        "print('State Shape: ', state_shape)\n",
        "print('State Size: ', state_size)\n",
        "print('Number of Actions: ', number_actions)"
      ],
      "metadata": {
        "colab": {
          "base_uri": "https://localhost:8080/"
        },
        "id": "48BO7gEFOOPy",
        "outputId": "4fd9ff42-3fc2-4717-98c0-ce33463b81c4"
      },
      "execution_count": 4,
      "outputs": [
        {
          "output_type": "stream",
          "name": "stdout",
          "text": [
            "State Shape:  (8,)\n",
            "State Size:  8\n",
            "Number of Actions:  4\n"
          ]
        }
      ]
    },
    {
      "cell_type": "markdown",
      "metadata": {
        "id": "c_dZmOIvZgj-"
      },
      "source": [
        "### Initializing the hyperparameters"
      ]
    },
    {
      "cell_type": "code",
      "source": [
        "learning_rate = 5e-4\n",
        "minibatch_size = 100\n",
        "discount_factor = 0.99\n",
        "replay_buffer_size = int(1e5)\n",
        "interpolation_parameter = 1e-3"
      ],
      "metadata": {
        "id": "o4M58R_UPumx"
      },
      "execution_count": 5,
      "outputs": []
    },
    {
      "cell_type": "markdown",
      "metadata": {
        "id": "8hD_Vs-bYnip"
      },
      "source": [
        "### Implementing Experience Replay"
      ]
    },
    {
      "cell_type": "code",
      "source": [
        "class ReplayMemory(object):\n",
        "\n",
        "  def __init__(self, capacity):\n",
        "    self.device = torch.device(\"cuda\" if torch.cuda.is_available() else \"cpu\")\n",
        "    self.capacity = capacity\n",
        "    self.memory = []\n",
        "\n",
        "  def push(self, event):\n",
        "    self.memory.append(event)\n",
        "    if len(self.memory) > self.capacity:\n",
        "      del self.memory[0]\n",
        "\n",
        "\n",
        "  def sample(self, batch_size):\n",
        "    experiences =  random.sample(self.memory, k = batch_size)\n",
        "    states = torch.from_numpy(np.vstack([e[0] for e in experiences if e is not None])).float().to(self.device)\n",
        "    action = torch.from_numpy(np.vstack([e[1] for e in experiences if e is not None])).long().to(self.device)\n",
        "    reward = torch.from_numpy(np.vstack([e[2] for e in experiences if e is not None])).float().to(self.device)\n",
        "    next_state = torch.from_numpy(np.vstack([e[3] for e in experiences if e is not None])).float().to(self.device)\n",
        "    dones = torch.from_numpy(np.vstack([e[4] for e in experiences if e is not None]).astype(np.uint8)).float().to(self.device)\n",
        "\n",
        "    return states, next_state, action, reward, dones"
      ],
      "metadata": {
        "id": "HZFtb95tQTJT"
      },
      "execution_count": 6,
      "outputs": []
    },
    {
      "cell_type": "markdown",
      "metadata": {
        "id": "JmEkbFbUY6Jt"
      },
      "source": [
        "### Implementing the DQN class"
      ]
    },
    {
      "cell_type": "code",
      "source": [
        "class Agent():\n",
        "\n",
        "  def __init__(self, state_size, action_size):\n",
        "    self.device = torch.device(\"cuda\" if torch.cuda.is_available() else \"cpu\")\n",
        "    self.state_size = state_size\n",
        "    self.action_size = action_size\n",
        "    self.local_qnetwork = Network(state_size, action_size).to(self.device)\n",
        "    self.target_qnetwork = Network(state_size, action_size).to(self.device)\n",
        "    self.optimizer = optim.Adam(self.local_qnetwork.parameters(), lr = learning_rate)\n",
        "    self.memory = ReplayMemory(replay_buffer_size)\n",
        "    self.t_step = 0\n",
        "\n",
        "  def step(self, state, action, reward, next_state, done):\n",
        "    self.memory.push((state, action, reward, next_state, done))\n",
        "    self.t_step = (self.t_step + 1) % 4\n",
        "    if self.t_step == 0:\n",
        "      if len(self.memory.memory) > minibatch_size:\n",
        "        experiences = self.memory.sample(100)\n",
        "        self.learn(experiences, discount_factor)\n",
        "\n",
        "  def act(self, state, epsilon = 0.):\n",
        "    state = torch.from_numpy(state).float().unsqueeze(0).to(self.device)\n",
        "    self.local_qnetwork.eval()\n",
        "    with torch.no_grad():\n",
        "      action_values = self.local_qnetwork(state)\n",
        "    self.local_qnetwork.train()\n",
        "    if random.random() > epsilon:\n",
        "      return np.argmax(action_values.cpu().data.numpy())\n",
        "    else:\n",
        "      return random.choice(np.arange(self.action_size))\n",
        "\n",
        "  def learn(self, experiences, discount_factor):\n",
        "    states, next_states, actions, rewards, dones = experiences\n",
        "    next_qtargets = self.target_qnetwork(next_states).detach().max(1)[0].unsqueeze(1)\n",
        "    q_targets = rewards + (discount_factor * next_qtargets * (1 - dones))\n",
        "    q_expected = self.local_qnetwork(states).gather(1, actions)\n",
        "    loss = F.mse_loss(q_expected, q_targets)\n",
        "    self.optimizer.zero_grad()\n",
        "    loss.backward()\n",
        "    self.optimizer.step()\n",
        "    self.soft_update(self.local_qnetwork, self.target_qnetwork, interpolation_parameter)\n",
        "\n",
        "  def soft_update(self, local_model, target_model, interpolation_parameter):\n",
        "    for target_param, local_param in zip(target_model.parameters(), local_model.parameters()):\n",
        "      target_param.data.copy_(interpolation_parameter * local_param.data + (1 - interpolation_parameter) * target_param.data)"
      ],
      "metadata": {
        "id": "fbbypCdKKRSO"
      },
      "execution_count": 7,
      "outputs": []
    },
    {
      "cell_type": "markdown",
      "metadata": {
        "id": "o1tZElccZmf6"
      },
      "source": [
        "### Initializing the DQN agent"
      ]
    },
    {
      "cell_type": "code",
      "source": [
        "agent = Agent(state_size, number_actions)"
      ],
      "metadata": {
        "id": "_MIyTKx-Wrby"
      },
      "execution_count": 8,
      "outputs": []
    },
    {
      "cell_type": "markdown",
      "metadata": {
        "id": "E8v0PtUfaVQp"
      },
      "source": [
        "### Training the DQN agent"
      ]
    },
    {
      "cell_type": "code",
      "source": [
        "number_episodes = 2000\n",
        "max_t = 1000\n",
        "epsilon_starting_value = 1.0\n",
        "epsilon_ending_value = 0.01\n",
        "epsilon_decay_value = 0.995\n",
        "epsilon = epsilon_starting_value\n",
        "scores = deque(maxlen = 100)\n",
        "\n",
        "\n",
        "for episode in range(1, number_episodes + 1):\n",
        "  state, _ = env.reset()\n",
        "  score = 0\n",
        "  for t in range(max_t):\n",
        "    action = agent.act(state, epsilon)\n",
        "    next_state, reward, done, _, _ = env.step(action)\n",
        "    agent.step(state, action, reward, next_state, done)\n",
        "    state = next_state\n",
        "    score += reward\n",
        "    if done:\n",
        "      break\n",
        "  scores.append(score)\n",
        "  epsilon = max(epsilon_ending_value, epsilon_decay_value * epsilon)\n",
        "  print('\\rEpisode {}\\tAverage Score: {:.2f}'.format(episode, np.mean(scores)), end = \"\")\n",
        "  if episode%100 == 0:\n",
        "    print('\\rEpisode {}\\tAverage Score: {:.2f}'.format(episode, np.mean(scores)))\n",
        "  if np.mean(scores) >= 200.0:\n",
        "    print('\\nEnvironment solved in {:d} episodes!\\tAverage Score: {:.2f}'.format(episode - 100, np.mean(scores)))\n",
        "    torch.save(agent.local_qnetwork.state_dict(), 'checkpoint.pth')\n",
        "    break"
      ],
      "metadata": {
        "colab": {
          "base_uri": "https://localhost:8080/"
        },
        "id": "W5IQtFtmXDov",
        "outputId": "14ac2a30-a1c7-4937-c69e-c78c7a08b086"
      },
      "execution_count": 9,
      "outputs": [
        {
          "output_type": "stream",
          "name": "stdout",
          "text": [
            "Episode 100\tAverage Score: -167.00\n",
            "Episode 200\tAverage Score: -103.69\n",
            "Episode 300\tAverage Score: -23.95\n",
            "Episode 400\tAverage Score: 3.42\n",
            "Episode 500\tAverage Score: 96.04\n",
            "Episode 600\tAverage Score: 98.44\n",
            "Episode 700\tAverage Score: 151.09\n",
            "Episode 800\tAverage Score: 164.32\n",
            "Episode 873\tAverage Score: 201.30\n",
            "Environment solved in 773 episodes!\tAverage Score: 201.30\n"
          ]
        }
      ]
    },
    {
      "cell_type": "markdown",
      "metadata": {
        "id": "O8CNwdOTcCoP"
      },
      "source": [
        "##Visualizing the results"
      ]
    },
    {
      "cell_type": "code",
      "execution_count": 10,
      "metadata": {
        "id": "cb9nVvU2Okhk",
        "colab": {
          "base_uri": "https://localhost:8080/",
          "height": 458
        },
        "outputId": "d35d0b89-0256-433d-8ae3-efab12c5ae4a"
      },
      "outputs": [
        {
          "output_type": "stream",
          "name": "stderr",
          "text": [
            "WARNING:imageio_ffmpeg:IMAGEIO FFMPEG_WRITER WARNING: input image is not divisible by macro_block_size=16, resizing from (600, 400) to (608, 400) to ensure video compatibility with most codecs and players. To prevent resizing, make your input image divisible by the macro_block_size or set the macro_block_size to 1 (risking incompatibility).\n"
          ]
        },
        {
          "output_type": "display_data",
          "data": {
            "text/plain": [
              "<IPython.core.display.HTML object>"
            ],
            "text/html": [
              "<video alt=\"test\" autoplay\n",
              "                loop controls style=\"height: 400px;\">\n",
              "                <source src=\"data:video/mp4;base64,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\" type=\"video/mp4\" />\n",
              "             </video>"
            ]
          },
          "metadata": {}
        }
      ],
      "source": [
        "import glob\n",
        "import io\n",
        "import base64\n",
        "import imageio\n",
        "from IPython.display import HTML, display\n",
        "\n",
        "def show_video_of_model(agent, env_name):\n",
        "    env = gym.make(env_name, render_mode='rgb_array')\n",
        "    state, _ = env.reset()\n",
        "    done = False\n",
        "    frames = []\n",
        "    while not done:\n",
        "        frame = env.render()\n",
        "        frames.append(frame)\n",
        "        action = agent.act(state)\n",
        "        state, reward, done, _, _ = env.step(action.item())\n",
        "    env.close()\n",
        "    imageio.mimsave('video.mp4', frames, fps=30)\n",
        "\n",
        "show_video_of_model(agent, 'LunarLander-v3')\n",
        "\n",
        "def show_video():\n",
        "    mp4list = glob.glob('*.mp4')\n",
        "    if len(mp4list) > 0:\n",
        "        mp4 = mp4list[0]\n",
        "        video = io.open(mp4, 'r+b').read()\n",
        "        encoded = base64.b64encode(video)\n",
        "        display(HTML(data='''<video alt=\"test\" autoplay\n",
        "                loop controls style=\"height: 400px;\">\n",
        "                <source src=\"data:video/mp4;base64,{0}\" type=\"video/mp4\" />\n",
        "             </video>'''.format(encoded.decode('ascii'))))\n",
        "    else:\n",
        "        print(\"Could not find video\")\n",
        "\n",
        "show_video()"
      ]
    }
  ],
  "metadata": {
    "colab": {
      "provenance": [],
      "gpuType": "V28"
    },
    "kernelspec": {
      "display_name": "Python 3",
      "name": "python3"
    },
    "language_info": {
      "name": "python"
    },
    "accelerator": "TPU"
  },
  "nbformat": 4,
  "nbformat_minor": 0
}